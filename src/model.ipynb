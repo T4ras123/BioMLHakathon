{
 "cells": [
  {
   "cell_type": "code",
   "execution_count": null,
   "metadata": {},
   "outputs": [],
   "source": [
    "import torch\n",
    "import torch.nn as nn\n",
    "import torch.nn.functional as F\n",
    "import torch.optim as optim\n",
    "import numpy as np\n",
    "import random\n",
    "import pandas as pd\n",
    "import matplotlib.pyplot as plt\n",
    "import csv\n",
    "import os\n",
    "device = torch.device(\"cuda\" if torch.cuda.is_available() else \"cpu\")"
   ]
  },
  {
   "cell_type": "code",
   "execution_count": null,
   "metadata": {},
   "outputs": [],
   "source": [
    "with open('../Data/train.csv', 'r') as f:\n",
    "    reader = csv.reader(f)\n",
    "    train_data = list(reader)[1:]\n",
    "  \n",
    "train_data"
   ]
  },
  {
   "cell_type": "code",
   "execution_count": null,
   "metadata": {},
   "outputs": [],
   "source": [
    "random.shuffle(train_data)"
   ]
  },
  {
   "cell_type": "code",
   "execution_count": 17,
   "metadata": {},
   "outputs": [
    {
     "name": "stdout",
     "output_type": "stream",
     "text": [
      "['/', 'P', '4', ']', '6', '(', 'I', '-', 'S', 'N', 'r', 's', '=', '+', '#', 'o', 'F', 'C', ')', '\\\\', '7', '3', 'B', 'l', '@', 'c', '[', 'O', '1', '2', 'n', '5', 'H']\n",
      "33\n"
     ]
    }
   ],
   "source": [
    "vocab = list(set(''.join([data[0] for data in train_data])))\n",
    "vocab_size = len(vocab)\n",
    "print(vocab)\n",
    "print(vocab_size)"
   ]
  },
  {
   "cell_type": "code",
   "execution_count": null,
   "metadata": {},
   "outputs": [],
   "source": [
    "def get_batch(block_size, batch_size):\n",
    "    pass\n",
    "    "
   ]
  },
  {
   "cell_type": "code",
   "execution_count": 12,
   "metadata": {},
   "outputs": [],
   "source": [
    "class Attention(nn.Module):\n",
    "  def __init__(self, emb_dim, n_heads, hidden_dim, dropout):\n",
    "    super(Attention, self).__init__()\n",
    "    self.emb_dim = emb_dim\n",
    "    self.n_heads = n_heads\n",
    "    self.hidden_dim = hidden_dim\n",
    "    self.dropout = dropout\n",
    "    self.att = nn.MultiheadAttention(emb_dim, n_heads, dropout=dropout)\n",
    "    \n",
    "    self.q = nn.Linear(emb_dim, hidden_dim)\n",
    "    self.k = nn.Linear(emb_dim, hidden_dim)\n",
    "    self.v = nn.Linear(emb_dim, hidden_dim)\n",
    "    \n",
    "  def forward(self, x):\n",
    "    q = self.q(x)\n",
    "    k = self.k(x)\n",
    "    v = self.v(x)\n",
    "    \n",
    "    return self.att(q, k, v)[0]"
   ]
  },
  {
   "cell_type": "code",
   "execution_count": 13,
   "metadata": {},
   "outputs": [],
   "source": [
    "class FeedForward(nn.Sequential):\n",
    "  def __init__(self, emb_dim, hidden_dim, dropout):\n",
    "    super().__init__(\n",
    "      nn.Linear(emb_dim, hidden_dim),\n",
    "      nn.GELU(inplace=False),\n",
    "      nn.Dropout(dropout),\n",
    "      nn.Linear(hidden_dim, emb_dim),\n",
    "      nn.Dropout(dropout)\n",
    "    )"
   ]
  },
  {
   "cell_type": "code",
   "execution_count": 11,
   "metadata": {},
   "outputs": [],
   "source": [
    "class TransformerBlock(nn.Module):\n",
    "  def __init__(self, emb_dim, n_heads, hidden_dim, dropout):\n",
    "    super(TransformerBlock, self).__init__()\n",
    "    \n",
    "    self.attention = Attention(emb_dim, n_heads, hidden_dim, dropout)\n",
    "    self.norm1 = nn.LayerNorm(emb_dim)\n",
    "    self.ff = FeedForward(emb_dim, hidden_dim, dropout)\n",
    "    self.norm2 = nn.LayerNorm(emb_dim)\n",
    "    \n",
    "    def forward(self, x):\n",
    "      x = x + self.attention(self.norm1(x))\n",
    "      x = x + self.ff(self.norm2(x))\n",
    "      return x"
   ]
  },
  {
   "cell_type": "code",
   "execution_count": null,
   "metadata": {},
   "outputs": [],
   "source": [
    "class BioTransformer(nn.Module):\n",
    "  def __init__(self, emb_dim=32, hidden_dim=128, out_dim=2, n_heads=2, n_layers=6,vocab_size=33, block_size=240, dropout=0.):\n",
    "  \n",
    "    super(self).__init__()\n",
    "    self.embedding_dim = emb_dim\n",
    "    self.hidden_dim = hidden_dim\n",
    "    self.out_dim = out_dim\n",
    "    self.heads = n_heads\n",
    "    self.num_layers = n_layers\n",
    "    self.dropout = dropout\n",
    "    \n",
    "    self.token_embedding = nn.Embedding(vocab_size, emb_dim)\n",
    "    self.l_head = nn.Linear(emb_dim, out_dim)\n",
    "    self.pos_embedding = nn.Embedding(block_size, emb_dim)\n",
    "    self.blocks = nn.Sequential(*[TransformerBlock(emb_dim, n_heads, hidden_dim, dropout) for _ in range(n_layers)])\n",
    "    \n",
    "    \n",
    "  def forward(self, x, targets=None):\n",
    "    b, t = x.size()\n",
    "    positions = torch.arange(t, device=x.device).expand(b, t)\n",
    "    x = self.token_embedding(x) + self.pos_embedding(positions)\n",
    "    \n",
    "    x = self.blocks(x)\n",
    "      \n",
    "    x = self.l_head(x.mean(dim=1))\n",
    "    \n",
    "    if targets is not None:\n",
    "      \n",
    "      B, T, C = x.size()\n",
    "      x = x.view(B*T, C)\n",
    "      targets = targets.view(B*T)\n",
    "      loss = F.cross_entropy(x, targets)\n",
    "      \n",
    "    else:\n",
    "      loss = None\n",
    "      \n",
    "    return x, loss\n",
    "  \n",
    "  \n",
    "  def predict(self, x):\n",
    "    return F.softmax(self.forward(x), dim=1)\n",
    "    "
   ]
  },
  {
   "cell_type": "code",
   "execution_count": null,
   "metadata": {},
   "outputs": [],
   "source": [
    "model = BioTransformer().to(device)\n",
    "\n",
    "optimizer = optim.Adam(model.parameters(), lr=1e-3)\n",
    "\n",
    "for iter in range(10):\n",
    "  \n",
    "    "
   ]
  }
 ],
 "metadata": {
  "kernelspec": {
   "display_name": "ML",
   "language": "python",
   "name": "python3"
  },
  "language_info": {
   "codemirror_mode": {
    "name": "ipython",
    "version": 3
   },
   "file_extension": ".py",
   "mimetype": "text/x-python",
   "name": "python",
   "nbconvert_exporter": "python",
   "pygments_lexer": "ipython3",
   "version": "3.12.3"
  }
 },
 "nbformat": 4,
 "nbformat_minor": 2
}
