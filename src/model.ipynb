{
 "cells": [
  {
   "cell_type": "code",
   "execution_count": 7,
   "metadata": {},
   "outputs": [],
   "source": [
    "import sys\n",
    "import torch\n",
    "import torch.nn as nn\n",
    "import torch.nn.functional as F\n",
    "import torch.optim as optim\n",
    "import numpy as np\n",
    "import random\n",
    "import pandas as pd\n",
    "import matplotlib.pyplot as plt\n",
    "import csv\n",
    "import os\n",
    "device = torch.device(\"cuda\" if torch.cuda.is_available() else \"cpu\")"
   ]
  },
  {
   "cell_type": "code",
   "execution_count": null,
   "metadata": {},
   "outputs": [],
   "source": [
    "with open('../Data/train.csv', 'r') as f:\n",
    "    reader = csv.reader(f)\n",
    "    train_data = list(reader)[1:]\n",
    "  \n",
    "train_data"
   ]
  },
  {
   "cell_type": "code",
   "execution_count": 9,
   "metadata": {},
   "outputs": [],
   "source": [
    "module_path = os.path.abspath(os.path.join('..'))\n",
    "if module_path not in sys.path:\n",
    "    sys.path.append(module_path)\n",
    "\n",
    "from src.tokenizer import GPT4Tokenizer\n",
    "tokenizer = GPT4Tokenizer()\n",
    "tokenizer.load_vocab('vocab.json')\n"
   ]
  },
  {
   "cell_type": "code",
   "execution_count": 10,
   "metadata": {},
   "outputs": [
    {
     "name": "stdout",
     "output_type": "stream",
     "text": [
      "[375, 269, 335, 324, 487, 438, 347, 413, 386, 256, 270, 288, 356, 488, 272, 289, 278, 352, 360, 325, 278, 302, 338, 256, 412, 41, 308, 79, 338, 313, 257, 78, 390, 498, 407, 485, 358, 400, 408, 457, 371, 336, 49, 385, 397, 284, 280, 454, 273, 361, 439, 67, 420, 259, 344, 296]\n"
     ]
    }
   ],
   "source": [
    "print(tokenizer.encode(\"NC(=O)c1ccc(Cl)cc1)[C@H]1[C@@H]2C[C@@H](n3cnc4cccc(F)c43)C[C@@H]21CNC[C@H](c1ccc2ccccc2c1)[C@H](O)c1cncc(OC)c1COc1cnc(NCCNCCCF)cc1[C@@H]1c2[nH]c3ccccc3c2C[C@@H](C)N1CC(F)(F)FC[C@@]1(c2cc(NC(=O)c3ccc(C#N)cn3)ccc2F)Cn2cc(C#N)n\"))"
   ]
  },
  {
   "cell_type": "code",
   "execution_count": null,
   "metadata": {},
   "outputs": [],
   "source": [
    "encoded_data = []\n",
    "for row in train_data:\n",
    "    text = row[0]  # SMILES string\n",
    "    label = int(row[1])  # Label\n",
    "    tokens = tokenizer.encode(text)\n",
    "    encoded_data.append((torch.tensor(tokens), label))"
   ]
  },
  {
   "cell_type": "code",
   "execution_count": null,
   "metadata": {},
   "outputs": [
    {
     "data": {
      "text/plain": [
       "(tensor([ 67, 289, 278, 352, 465, 325, 279, 302, 320, 353, 258]), 0)"
      ]
     },
     "execution_count": 12,
     "metadata": {},
     "output_type": "execute_result"
    }
   ],
   "source": []
  },
  {
   "cell_type": "code",
   "execution_count": null,
   "metadata": {},
   "outputs": [],
   "source": []
  },
  {
   "cell_type": "code",
   "execution_count": 13,
   "metadata": {},
   "outputs": [
    {
     "ename": "TypeError",
     "evalue": "sequence item 0: expected str instance, Tensor found",
     "output_type": "error",
     "traceback": [
      "\u001b[0;31m---------------------------------------------------------------------------\u001b[0m",
      "\u001b[0;31mTypeError\u001b[0m                                 Traceback (most recent call last)",
      "Cell \u001b[0;32mIn[13], line 1\u001b[0m\n\u001b[0;32m----> 1\u001b[0m vocab \u001b[38;5;241m=\u001b[39m \u001b[38;5;28mlist\u001b[39m(\u001b[38;5;28mset\u001b[39m(\u001b[38;5;124;43m'\u001b[39;49m\u001b[38;5;124;43m'\u001b[39;49m\u001b[38;5;241;43m.\u001b[39;49m\u001b[43mjoin\u001b[49m\u001b[43m(\u001b[49m\u001b[43m[\u001b[49m\u001b[43mdata\u001b[49m\u001b[43m[\u001b[49m\u001b[38;5;241;43m0\u001b[39;49m\u001b[43m]\u001b[49m\u001b[43m \u001b[49m\u001b[38;5;28;43;01mfor\u001b[39;49;00m\u001b[43m \u001b[49m\u001b[43mdata\u001b[49m\u001b[43m \u001b[49m\u001b[38;5;129;43;01min\u001b[39;49;00m\u001b[43m \u001b[49m\u001b[43mencoded_data\u001b[49m\u001b[43m]\u001b[49m\u001b[43m)\u001b[49m))\n\u001b[1;32m      2\u001b[0m vocab_size \u001b[38;5;241m=\u001b[39m \u001b[38;5;28mlen\u001b[39m(vocab)\n\u001b[1;32m      3\u001b[0m \u001b[38;5;28mprint\u001b[39m(vocab)\n",
      "\u001b[0;31mTypeError\u001b[0m: sequence item 0: expected str instance, Tensor found"
     ]
    }
   ],
   "source": [
    "vocab = list(set(''.join([data[0] for data in encoded_data])))\n",
    "vocab_size = len(vocab)\n",
    "print(vocab)\n",
    "print(vocab_size)"
   ]
  },
  {
   "cell_type": "code",
   "execution_count": null,
   "metadata": {},
   "outputs": [],
   "source": [
    "def get_batch(block_size, batch_size):\n",
    "    "
   ]
  },
  {
   "cell_type": "code",
   "execution_count": 12,
   "metadata": {},
   "outputs": [],
   "source": [
    "class Attention(nn.Module):\n",
    "  def __init__(self, emb_dim, n_heads, hidden_dim, dropout):\n",
    "    super(Attention, self).__init__()\n",
    "    self.emb_dim = emb_dim\n",
    "    self.n_heads = n_heads\n",
    "    self.hidden_dim = hidden_dim\n",
    "    self.dropout = dropout\n",
    "    self.att = nn.MultiheadAttention(emb_dim, n_heads, dropout=dropout)\n",
    "    \n",
    "    self.q = nn.Linear(emb_dim, hidden_dim)\n",
    "    self.k = nn.Linear(emb_dim, hidden_dim)\n",
    "    self.v = nn.Linear(emb_dim, hidden_dim)\n",
    "    \n",
    "  def forward(self, x):\n",
    "    q = self.q(x)\n",
    "    k = self.k(x)\n",
    "    v = self.v(x)\n",
    "    \n",
    "    return self.att(q, k, v)[0]"
   ]
  },
  {
   "cell_type": "code",
   "execution_count": 13,
   "metadata": {},
   "outputs": [],
   "source": [
    "class FeedForward(nn.Sequential):\n",
    "  def __init__(self, emb_dim, hidden_dim, dropout):\n",
    "    super().__init__(\n",
    "      nn.Linear(emb_dim, hidden_dim),\n",
    "      nn.GELU(inplace=False),\n",
    "      nn.Dropout(dropout),\n",
    "      nn.Linear(hidden_dim, emb_dim),\n",
    "      nn.Dropout(dropout)\n",
    "    )"
   ]
  },
  {
   "cell_type": "code",
   "execution_count": 11,
   "metadata": {},
   "outputs": [],
   "source": [
    "class TransformerBlock(nn.Module):\n",
    "  def __init__(self, emb_dim, n_heads, hidden_dim, dropout):\n",
    "    super(TransformerBlock, self).__init__()\n",
    "    \n",
    "    self.attention = Attention(emb_dim, n_heads, hidden_dim, dropout)\n",
    "    self.norm1 = nn.LayerNorm(emb_dim)\n",
    "    self.ff = FeedForward(emb_dim, hidden_dim, dropout)\n",
    "    self.norm2 = nn.LayerNorm(emb_dim)\n",
    "    \n",
    "    def forward(self, x):\n",
    "      x = x + self.attention(self.norm1(x))\n",
    "      x = x + self.ff(self.norm2(x))\n",
    "      return x"
   ]
  },
  {
   "cell_type": "code",
   "execution_count": null,
   "metadata": {},
   "outputs": [],
   "source": [
    "class BioTransformer(nn.Module):\n",
    "  def __init__(self, emb_dim=32, hidden_dim=128, out_dim=2, n_heads=2, n_layers=6,vocab_size=512, block_size=240, dropout=0.):\n",
    "  \n",
    "    super(self).__init__()\n",
    "    self.embedding_dim = emb_dim\n",
    "    self.hidden_dim = hidden_dim\n",
    "    self.out_dim = out_dim\n",
    "    self.heads = n_heads\n",
    "    self.num_layers = n_layers\n",
    "    self.dropout = dropout\n",
    "    \n",
    "    self.token_embedding = nn.Embedding(vocab_size, emb_dim)\n",
    "    self.l_head = nn.Linear(emb_dim, out_dim)\n",
    "    self.pos_embedding = nn.Embedding(block_size, emb_dim)\n",
    "    self.blocks = nn.Sequential(*[TransformerBlock(emb_dim, n_heads, hidden_dim, dropout) for _ in range(n_layers)])\n",
    "    \n",
    "    \n",
    "  def forward(self, x, targets=None):\n",
    "    b, t = x.size()\n",
    "    positions = torch.arange(t, device=x.device).expand(b, t)\n",
    "    x = self.token_embedding(x) + self.pos_embedding(positions)\n",
    "    \n",
    "    x = self.blocks(x)\n",
    "      \n",
    "    x = self.l_head(x.mean(dim=1))\n",
    "    \n",
    "    if targets is not None:\n",
    "      \n",
    "      B, T, C = x.size()\n",
    "      x = x.view(B*T, C)\n",
    "      targets = targets.view(B*T)\n",
    "      loss = F.cross_entropy(x, targets)\n",
    "      \n",
    "    else:\n",
    "      loss = None\n",
    "      \n",
    "    return x, loss\n",
    "  \n",
    "  \n",
    "  def predict(self, x):\n",
    "    return F.softmax(self.forward(x), dim=1)\n",
    "    "
   ]
  },
  {
   "cell_type": "code",
   "execution_count": null,
   "metadata": {},
   "outputs": [],
   "source": [
    "model = BioTransformer().to(device)\n",
    "\n",
    "optimizer = optim.Adam(model.parameters(), lr=1e-3)\n",
    "\n",
    "for iter in range(10):\n",
    "  \n",
    "    "
   ]
  }
 ],
 "metadata": {
  "kernelspec": {
   "display_name": "ML",
   "language": "python",
   "name": "python3"
  },
  "language_info": {
   "codemirror_mode": {
    "name": "ipython",
    "version": 3
   },
   "file_extension": ".py",
   "mimetype": "text/x-python",
   "name": "python",
   "nbconvert_exporter": "python",
   "pygments_lexer": "ipython3",
   "version": "3.12.3"
  }
 },
 "nbformat": 4,
 "nbformat_minor": 2
}
